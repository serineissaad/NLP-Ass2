{
 "cells": [
  {
   "cell_type": "code",
   "execution_count": 1,
   "metadata": {},
   "outputs": [
    {
     "name": "stderr",
     "output_type": "stream",
     "text": [
      "[nltk_data] Downloading package brown to\n",
      "[nltk_data]     C:\\Users\\user\\AppData\\Roaming\\nltk_data...\n",
      "[nltk_data]   Unzipping corpora\\brown.zip.\n"
     ]
    },
    {
     "data": {
      "text/plain": [
       "True"
      ]
     },
     "execution_count": 1,
     "metadata": {},
     "output_type": "execute_result"
    }
   ],
   "source": [
    "import nltk\n",
    "from nltk.corpus import brown\n",
    "from nltk.util import ngrams\n",
    "from collections import Counter\n",
    "import pandas as pd\n",
    "import string\n",
    "\n",
    "# Download the Brown corpus\n",
    "nltk.download('brown')"
   ]
  },
  {
   "cell_type": "markdown",
   "metadata": {},
   "source": [
    "## 1. Cleaning the corpus"
   ]
  },
  {
   "cell_type": "code",
   "execution_count": 2,
   "metadata": {},
   "outputs": [],
   "source": [
    "# Clean the tokens: lowercase and remove punctuation\n",
    "tokenized_text = [word.lower() for word in brown.words() if word.isalpha()]"
   ]
  },
  {
   "cell_type": "markdown",
   "metadata": {},
   "source": [
    "## 2. n-grams and their frequencies function"
   ]
  },
  {
   "cell_type": "code",
   "execution_count": 4,
   "metadata": {},
   "outputs": [],
   "source": [
    "def get_ngram_frequencies(tokens, n):\n",
    "    ngram_list = list(ngrams(tokens, n))\n",
    "    freq = Counter(ngram_list)\n",
    "    df = pd.DataFrame(freq.items(), columns=['ngram', 'freq'])\n",
    "    df.sort_values(by='freq', ascending=False, inplace=True)\n",
    "    return df"
   ]
  },
  {
   "cell_type": "markdown",
   "metadata": {},
   "source": [
    "## 3. Predicting top-k next words based on n-grams"
   ]
  },
  {
   "cell_type": "code",
   "execution_count": 7,
   "metadata": {},
   "outputs": [],
   "source": [
    "def predict_next_words(context, ngram_df, n, k=5):\n",
    "    context_tokens = context.lower().split()\n",
    "    if len(context_tokens) != n - 1:\n",
    "        raise ValueError(f\"Context should have exactly {n - 1} words for {n}-gram prediction.\")\n",
    "\n",
    "    # Match n-grams starting with the context\n",
    "    filtered = ngram_df[ngram_df['ngram'].apply(lambda x: list(x[:n-1]) == context_tokens)]\n",
    "    top_k = filtered.nlargest(k, 'freq')\n",
    "\n",
    "    return [ngram[-1] for ngram in top_k['ngram']]"
   ]
  },
  {
   "cell_type": "markdown",
   "metadata": {},
   "source": [
    "## Testing"
   ]
  },
  {
   "cell_type": "code",
   "execution_count": 6,
   "metadata": {},
   "outputs": [
    {
     "data": {
      "text/plain": [
       "['states', 'nations', 'kingdom', 'declining', 'steel']"
      ]
     },
     "execution_count": 6,
     "metadata": {},
     "output_type": "execute_result"
    }
   ],
   "source": [
    "# Get trigram frequencies\n",
    "trigram_df = get_ngram_frequencies(tokenized_text, n=3)\n",
    "\n",
    "# Predict top-5 next words after \"the united\"\n",
    "predict_next_words(\"the united\", trigram_df, n=3, k=5)"
   ]
  },
  {
   "cell_type": "code",
   "execution_count": null,
   "metadata": {},
   "outputs": [],
   "source": []
  },
  {
   "cell_type": "code",
   "execution_count": null,
   "metadata": {},
   "outputs": [],
   "source": []
  }
 ],
 "metadata": {
  "kernelspec": {
   "display_name": "Python 3 (ipykernel)",
   "language": "python",
   "name": "python3"
  },
  "language_info": {
   "codemirror_mode": {
    "name": "ipython",
    "version": 3
   },
   "file_extension": ".py",
   "mimetype": "text/x-python",
   "name": "python",
   "nbconvert_exporter": "python",
   "pygments_lexer": "ipython3",
   "version": "3.12.4"
  }
 },
 "nbformat": 4,
 "nbformat_minor": 4
}
